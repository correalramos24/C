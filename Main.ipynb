{
  "nbformat": 4,
  "nbformat_minor": 0,
  "metadata": {
    "colab": {
      "provenance": [],
      "authorship_tag": "ABX9TyM9PxC8lzoh1a5GSjn8/dKk",
      "include_colab_link": true
    },
    "kernelspec": {
      "name": "python3",
      "display_name": "Python 3"
    },
    "language_info": {
      "name": "python"
    }
  },
  "cells": [
    {
      "cell_type": "markdown",
      "metadata": {
        "id": "view-in-github",
        "colab_type": "text"
      },
      "source": [
        "<a href=\"https://colab.research.google.com/github/correalramos24/C/blob/main/Main.ipynb\" target=\"_parent\"><img src=\"https://colab.research.google.com/assets/colab-badge.svg\" alt=\"Open In Colab\"/></a>"
      ]
    },
    {
      "cell_type": "markdown",
      "source": [
        "## MAIN iPYTHON NOTEBOOK"
      ],
      "metadata": {
        "id": "Wp9cFgaQo_xH"
      }
    },
    {
      "cell_type": "code",
      "execution_count": 8,
      "metadata": {
        "id": "l-A6AdXgokVe"
      },
      "outputs": [],
      "source": [
        "# Print everything without print statement\n",
        "from IPython.core.interactiveshell import InteractiveShell\n",
        "InteractiveShell.ast_node_interactivity = \"all\""
      ]
    },
    {
      "cell_type": "code",
      "source": [
        "# Enable PEP-8 checks -> from https://github.com/nbpep8/nbpep8\n",
        "!pip install pycodestyle\n",
        "!pip install --index-url https://test.pypi.org/simple/ nbpep8\n",
        "\n",
        "from nbpep8.nbpep8 import pep8\n",
        "\n",
        "def check_cell_pep8():\n",
        "  pep8(_ih)"
      ],
      "metadata": {
        "id": "-U8Qf7g3qQSN"
      },
      "execution_count": null,
      "outputs": []
    },
    {
      "cell_type": "code",
      "source": [
        "import os,sys\n",
        "a =  23\n",
        "\n",
        "check_cell_pep8()"
      ],
      "metadata": {
        "id": "2ljiWN7YqBTx",
        "outputId": "9178fd43-3c93-4252-ce29-c25497694f98",
        "colab": {
          "base_uri": "https://localhost:8080/"
        }
      },
      "execution_count": 7,
      "outputs": [
        {
          "output_type": "stream",
          "name": "stdout",
          "text": [
            "cell_content.py:1:10: E231 missing whitespace after ','\n",
            "cell_content.py:1:10: E401 multiple imports on one line\n",
            "cell_content.py:2:4: E222 multiple spaces after operator\n",
            "\n"
          ]
        }
      ]
    }
  ]
}